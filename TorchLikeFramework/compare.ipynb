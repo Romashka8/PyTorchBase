{
 "cells": [
  {
   "cell_type": "code",
   "execution_count": 1,
   "id": "5f7f6355-6e88-423b-a9ed-75126f386ba8",
   "metadata": {},
   "outputs": [],
   "source": [
    "import my_framework as mf"
   ]
  },
  {
   "cell_type": "code",
   "execution_count": 2,
   "id": "f73e6e01-caf4-4955-9b00-d3bb03648b3e",
   "metadata": {},
   "outputs": [],
   "source": [
    "import numpy as np\n",
    "\n",
    "np.random.seed(0)"
   ]
  },
  {
   "cell_type": "markdown",
   "id": "becf8051-4eb0-4a00-abfe-c6d054579675",
   "metadata": {},
   "source": [
    "### Mannual model trainning"
   ]
  },
  {
   "cell_type": "code",
   "execution_count": 3,
   "id": "68b9f325-dc12-4d27-91a1-d3d2548dd4a5",
   "metadata": {},
   "outputs": [],
   "source": [
    "data = np.array([[0, 0], [0, 1], [1, 0], [1, 1]])\n",
    "target = np.array([[0], [1], [0], [1]])"
   ]
  },
  {
   "cell_type": "code",
   "execution_count": 4,
   "id": "24ddf2dd-f3bd-4ac8-a2c1-f3360166ebbf",
   "metadata": {},
   "outputs": [],
   "source": [
    "weights_0_1 = np.random.rand(2, 3)\n",
    "weights_1_2 = np.random.rand(3, 1)"
   ]
  },
  {
   "cell_type": "code",
   "execution_count": 5,
   "id": "24f72fe6-f72b-48fa-a501-8c7b296e5305",
   "metadata": {},
   "outputs": [
    {
     "name": "stdout",
     "output_type": "stream",
     "text": [
      "5.066439994622396\n",
      "0.4959907791902341\n",
      "0.4180671892167177\n",
      "0.35298133007809646\n",
      "0.2972549636567376\n",
      "0.24923260381633278\n",
      "0.20785392075862477\n",
      "0.17231260916265181\n",
      "0.14193744536652994\n",
      "0.11613979792168387\n"
     ]
    }
   ],
   "source": [
    "for i in range(10):\n",
    "    # predict\n",
    "    layer_1 = data.dot(weights_0_1)\n",
    "    layer_2 = layer_1.dot(weights_1_2)\n",
    "\n",
    "    # compare\n",
    "    diff = layer_2 - target\n",
    "    sqdiff = diff ** 2\n",
    "    loss = sqdiff.sum(0) # MSE Loss\n",
    "\n",
    "    # backpropagation\n",
    "    layer_1_grad = diff.dot(weights_1_2.transpose())\n",
    "    weights_1_2_update = layer_1.transpose().dot(diff)\n",
    "    weights_0_1_update = data.transpose().dot(layer_1_grad)\n",
    "\n",
    "    weights_1_2 -= weights_1_2_update * 0.1\n",
    "    weights_0_1 -= weights_0_1_update * 0.1\n",
    "    print(loss[0])"
   ]
  },
  {
   "cell_type": "markdown",
   "id": "62702e1e-2af4-4395-ae4f-296092f777b2",
   "metadata": {},
   "source": [
    "### Auto training"
   ]
  },
  {
   "cell_type": "code",
   "execution_count": 6,
   "id": "282b16da-f6c1-4a45-9bdc-7e0f5c5a9d3f",
   "metadata": {},
   "outputs": [],
   "source": [
    "data = mf.Tensor(np.array([[0, 0], [0, 1], [1, 0], [1, 1]]), autograd=True)\n",
    "target = mf.Tensor(np.array([[0], [1], [0], [1]]), autograd=True)"
   ]
  },
  {
   "cell_type": "code",
   "execution_count": 7,
   "id": "dc7287bf-1b5c-4698-9f83-574ba0dfd27b",
   "metadata": {},
   "outputs": [],
   "source": [
    "w = list()\n",
    "w.append(mf.Tensor(np.random.rand(2, 3), autograd=True))\n",
    "w.append(mf.Tensor(np.random.rand(3, 1), autograd=True))"
   ]
  },
  {
   "cell_type": "code",
   "execution_count": 8,
   "id": "3d8c81a8-6d48-4e96-a9ee-df653d4c1dc2",
   "metadata": {},
   "outputs": [
    {
     "name": "stdout",
     "output_type": "stream",
     "text": [
      "[1.19432764]\n",
      "[0.69555247]\n",
      "[0.41681785]\n",
      "[0.26511189]\n",
      "[0.16699383]\n",
      "[0.10237465]\n",
      "[0.06048975]\n",
      "[0.03436548]\n",
      "[0.0188295]\n",
      "[0.00999548]\n"
     ]
    }
   ],
   "source": [
    "for i in range(10):\n",
    "    # predict\n",
    "    pred = data.mm(w[0]).mm(w[1])\n",
    "\n",
    "    # compare\n",
    "    loss = ((pred - target) * (pred - target)).sum(0)\n",
    "    \n",
    "    # learn\n",
    "    loss.backward(mf.Tensor(np.ones_like(loss.data)))\n",
    "\n",
    "    for w_ in w:\n",
    "        w_.data -= w_.grad.data * 0.1\n",
    "        w_.grad.data *= 0\n",
    "\n",
    "    print(loss)"
   ]
  },
  {
   "cell_type": "markdown",
   "id": "f8550bfb-2c89-411c-b3fc-1eea4c70786b",
   "metadata": {},
   "source": [
    "### Adding optimizer"
   ]
  },
  {
   "cell_type": "code",
   "execution_count": 9,
   "id": "7ad65a50-766d-4ee1-b106-907e76d1155a",
   "metadata": {},
   "outputs": [],
   "source": [
    "data = mf.Tensor(np.array([[0, 0], [0, 1], [1, 0], [1, 1]]), autograd=True)\n",
    "target = mf.Tensor(np.array([[0], [1], [0], [1]]), autograd=True)"
   ]
  },
  {
   "cell_type": "code",
   "execution_count": 10,
   "id": "911720a4-5564-4c46-a309-d9bccfe7c6e0",
   "metadata": {},
   "outputs": [],
   "source": [
    "w = list()\n",
    "w.append(mf.Tensor(np.random.rand(2, 3), autograd=True))\n",
    "w.append(mf.Tensor(np.random.rand(3, 1), autograd=True))\n",
    "\n",
    "opt = mf.SGD(parameters=w, alpha=0.1)"
   ]
  },
  {
   "cell_type": "code",
   "execution_count": 11,
   "id": "547c2260-2b14-4021-916d-4f5c9435a2c5",
   "metadata": {},
   "outputs": [
    {
     "name": "stdout",
     "output_type": "stream",
     "text": [
      "[2.60308555]\n",
      "[0.90713554]\n",
      "[0.23779431]\n",
      "[0.10544739]\n",
      "[0.06594947]\n",
      "[0.04025429]\n",
      "[0.0238281]\n",
      "[0.01372652]\n",
      "[0.00772696]\n",
      "[0.00426826]\n"
     ]
    }
   ],
   "source": [
    "for i in range(10):\n",
    "    # predict\n",
    "    pred = data.mm(w[0]).mm(w[1])\n",
    "\n",
    "    # compare\n",
    "    loss = ((pred - target) * (pred - target)).sum(0)\n",
    "    \n",
    "    # learn\n",
    "    loss.backward(mf.Tensor(np.ones_like(loss.data)))\n",
    "    opt.step()\n",
    "    \n",
    "    print(loss)"
   ]
  },
  {
   "cell_type": "markdown",
   "id": "f827504b-a817-473a-b6ed-d9958abcf169",
   "metadata": {},
   "source": [
    "### Sequential using"
   ]
  },
  {
   "cell_type": "code",
   "execution_count": 12,
   "id": "244b8c8b-3f72-4fc2-b966-964aef07d3e1",
   "metadata": {},
   "outputs": [],
   "source": [
    "data = mf.Tensor(np.array([[0,0],[0,1],[1,0],[1,1]]), autograd=True)\n",
    "target = mf.Tensor(np.array([[0],[1],[0],[1]]), autograd=True)"
   ]
  },
  {
   "cell_type": "code",
   "execution_count": 13,
   "id": "12b6dc78-0de0-4d71-beee-3785fa10924c",
   "metadata": {},
   "outputs": [],
   "source": [
    "model = mf.Sequential([mf.Linear(2,3), mf.Linear(3,1)])\n",
    "\n",
    "optim = mf.SGD(parameters=model.get_parameters(), alpha=0.05)"
   ]
  },
  {
   "cell_type": "code",
   "execution_count": 14,
   "id": "5bf7b607-1c4d-4ff2-962f-93fc62cb507e",
   "metadata": {},
   "outputs": [
    {
     "name": "stdout",
     "output_type": "stream",
     "text": [
      "[1.50068885]\n",
      "[0.08825214]\n",
      "[0.05487245]\n",
      "[0.04254955]\n",
      "[0.03330328]\n",
      "[0.0260328]\n",
      "[0.0203061]\n",
      "[0.01580283]\n",
      "[0.01227069]\n",
      "[0.00950804]\n"
     ]
    }
   ],
   "source": [
    "for i in range(10):\n",
    "    \n",
    "    # predict\n",
    "    pred = model.forward(data)\n",
    "    \n",
    "    # compare\n",
    "    loss = ((pred - target)*(pred - target)).sum(0)\n",
    "    \n",
    "    # learn\n",
    "    loss.backward(mf.Tensor(np.ones_like(loss.data)))\n",
    "    optim.step()\n",
    "    print(loss)"
   ]
  },
  {
   "cell_type": "markdown",
   "id": "65e72be8-829b-483e-8ab7-e46c46a0f5d5",
   "metadata": {},
   "source": [
    "### Adding Loss"
   ]
  },
  {
   "cell_type": "code",
   "execution_count": 15,
   "id": "d92385b1-87a1-48e1-bb7e-f4b50b73c933",
   "metadata": {},
   "outputs": [],
   "source": [
    "data = mf.Tensor(np.array([[0,0],[0,1],[1,0],[1,1]]), autograd=True)\n",
    "target = mf.Tensor(np.array([[0],[1],[0],[1]]), autograd=True)"
   ]
  },
  {
   "cell_type": "code",
   "execution_count": 16,
   "id": "0e2e3c28-249e-4172-9ff1-e688d06bbfd1",
   "metadata": {},
   "outputs": [],
   "source": [
    "model = mf.Sequential([mf.Linear(2,3), mf.Linear(3,1)])\n",
    "criterion = mf.MSELoss()\n",
    "\n",
    "optim = mf.SGD(parameters=model.get_parameters(), alpha=0.05)"
   ]
  },
  {
   "cell_type": "code",
   "execution_count": 17,
   "id": "24d38233-886b-4bb0-a1ed-353eab098b71",
   "metadata": {},
   "outputs": [
    {
     "name": "stdout",
     "output_type": "stream",
     "text": [
      "[3.86068655]\n",
      "[13.1219652]\n",
      "[49.1136314]\n",
      "[5.18206117]\n",
      "[5.67338187]\n",
      "[2.34465826]\n",
      "[2.10956336]\n",
      "[0.9935142]\n",
      "[0.79231609]\n",
      "[0.472231]\n"
     ]
    }
   ],
   "source": [
    "for i in range(10):\n",
    "    \n",
    "    # Predict\n",
    "    pred = model.forward(data)\n",
    "    \n",
    "    # Compare\n",
    "    loss = criterion.forward(pred, target)\n",
    "    \n",
    "    # Learn\n",
    "    loss.backward(mf.Tensor(np.ones_like(loss.data)))\n",
    "    optim.step()\n",
    "    print(loss)"
   ]
  }
 ],
 "metadata": {
  "kernelspec": {
   "display_name": "Python 3 (ipykernel)",
   "language": "python",
   "name": "python3"
  },
  "language_info": {
   "codemirror_mode": {
    "name": "ipython",
    "version": 3
   },
   "file_extension": ".py",
   "mimetype": "text/x-python",
   "name": "python",
   "nbconvert_exporter": "python",
   "pygments_lexer": "ipython3",
   "version": "3.10.12"
  }
 },
 "nbformat": 4,
 "nbformat_minor": 5
}
