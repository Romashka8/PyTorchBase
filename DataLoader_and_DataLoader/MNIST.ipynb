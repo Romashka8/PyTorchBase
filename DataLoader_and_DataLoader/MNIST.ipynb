{
 "cells": [
  {
   "cell_type": "markdown",
   "id": "b3660705-acfe-42b6-b3bd-c0ee3716f4d4",
   "metadata": {},
   "source": [
    "### Create MNIST Dataset with class implementation and with ImageFolder"
   ]
  },
  {
   "cell_type": "markdown",
   "id": "d62a9f96-6e35-4abe-a6d1-02e4f31d3404",
   "metadata": {},
   "source": [
    "<b>Note:</b> you need to run data creating script"
   ]
  },
  {
   "cell_type": "markdown",
   "id": "8a019c67-a367-4de2-b995-4b6d68150d86",
   "metadata": {},
   "source": [
    "#### Start with our own class"
   ]
  },
  {
   "cell_type": "code",
   "execution_count": 1,
   "id": "9f5dc446-6165-4c75-9269-d8765a2f0e17",
   "metadata": {},
   "outputs": [],
   "source": [
    "import torch\n",
    "import torchvision\n",
    "\n",
    "from torchvision.datasets import ImageFolder\n",
    "from torch.utils.data import Dataset, DataLoader, random_split"
   ]
  },
  {
   "cell_type": "code",
   "execution_count": 2,
   "id": "c88ebb10-a2ca-4bc4-acb4-608e7a7da428",
   "metadata": {},
   "outputs": [],
   "source": [
    "import os\n",
    "import json\n",
    "\n",
    "import numpy as np\n",
    "import matplotlib.pyplot as plt\n",
    "\n",
    "from PIL import Image"
   ]
  },
  {
   "cell_type": "code",
   "execution_count": 3,
   "id": "8ef4ec93-0d9e-423e-957c-0068323494ca",
   "metadata": {},
   "outputs": [],
   "source": [
    "# Create our MNIST dataset implementation\n",
    "class MNISTDataset(Dataset):\n",
    "    def __init__(self, path, transform=None):\n",
    "        self.path = path\n",
    "        self.transform = transform\n",
    "\n",
    "        self.len_dataset = 0\n",
    "        self.data_list = []\n",
    "\n",
    "        for path_dir, dir_list, file_list in os.walk(path):\n",
    "            if path_dir == path:\n",
    "                self.classes = sorted(dir_list)\n",
    "                # dict with class names and they positions in one_hot vector\n",
    "                self.class_to_index = {\n",
    "                    cls_name: i for i, cls_name in enumerate(self.classes)\n",
    "                }\n",
    "                continue\n",
    "\n",
    "            cls = path_dir.split('/')[-1]\n",
    "\n",
    "            for name_file in file_list:\n",
    "                file_path = os.path.join(path_dir, name_file)\n",
    "                self.data_list.append((file_path, self.class_to_index[cls]))\n",
    "\n",
    "            self.len_dataset += len(file_list)\n",
    "\n",
    "    # always implement length of dataset here\n",
    "    def __len__(self):\n",
    "        return self.len_dataset\n",
    "\n",
    "    # data with they class\n",
    "    def __getitem__(self, index):\n",
    "        file_path, target = self.data_list[index]\n",
    "        sample = np.array(Image.open(file_path))\n",
    "\n",
    "        if self.transform is not None:\n",
    "            sample = self.transform(sample)\n",
    "        # return sample and it's class position in one_hot vector\n",
    "        return sample, target"
   ]
  },
  {
   "cell_type": "code",
   "execution_count": 4,
   "id": "78c3dc80-2776-4c39-82d4-25358ae53288",
   "metadata": {},
   "outputs": [],
   "source": [
    "# create datasets\n",
    "path = os.path.join(os.getcwd(), 'mnist')\n",
    "train_data = MNISTDataset(os.path.join(path, 'training'))\n",
    "test_data = MNISTDataset(os.path.join(path, 'testing'))"
   ]
  },
  {
   "cell_type": "code",
   "execution_count": 5,
   "id": "75ca60ec-fe14-4e03-856b-0741c85962e1",
   "metadata": {},
   "outputs": [
    {
     "data": {
      "text/plain": [
       "['class_0',\n",
       " 'class_1',\n",
       " 'class_2',\n",
       " 'class_3',\n",
       " 'class_4',\n",
       " 'class_5',\n",
       " 'class_6',\n",
       " 'class_7',\n",
       " 'class_8',\n",
       " 'class_9']"
      ]
     },
     "execution_count": 5,
     "metadata": {},
     "output_type": "execute_result"
    }
   ],
   "source": [
    "train_data.classes"
   ]
  },
  {
   "cell_type": "code",
   "execution_count": 6,
   "id": "09852a34-b18a-497f-94b8-04efaa6ad841",
   "metadata": {},
   "outputs": [
    {
     "data": {
      "text/plain": [
       "{'class_0': 0,\n",
       " 'class_1': 1,\n",
       " 'class_2': 2,\n",
       " 'class_3': 3,\n",
       " 'class_4': 4,\n",
       " 'class_5': 5,\n",
       " 'class_6': 6,\n",
       " 'class_7': 7,\n",
       " 'class_8': 8,\n",
       " 'class_9': 9}"
      ]
     },
     "execution_count": 6,
     "metadata": {},
     "output_type": "execute_result"
    }
   ],
   "source": [
    "train_data.class_to_index"
   ]
  },
  {
   "cell_type": "code",
   "execution_count": 7,
   "id": "b4659872-9192-4497-b50f-2f6bc9041fd0",
   "metadata": {},
   "outputs": [
    {
     "name": "stdout",
     "output_type": "stream",
     "text": [
      "Class - class_2\n"
     ]
    },
    {
     "data": {
      "text/plain": [
       "<matplotlib.image.AxesImage at 0x7d52b2e67670>"
      ]
     },
     "execution_count": 7,
     "metadata": {},
     "output_type": "execute_result"
    },
    {
     "data": {
      "image/png": "[encoded data removed]",
      "text/plain": [
       "<Figure size 640x480 with 1 Axes>"
      ]
     },
     "metadata": {},
     "output_type": "display_data"
    }
   ],
   "source": [
    "# check image and classes\n",
    "img, one_hot_position = train_data[2564]\n",
    "\n",
    "cls = train_data.classes[one_hot_position]\n",
    "print(f'Class - {cls}')\n",
    "plt.imshow(img, cmap='grey')"
   ]
  },
  {
   "cell_type": "code",
   "execution_count": 8,
   "id": "aae5017e-1f56-4c05-b6c1-864863875f38",
   "metadata": {},
   "outputs": [],
   "source": [
    "# do train-val split\n",
    "train_data, val_data = random_split(train_data, [0.8, 0.2])"
   ]
  },
  {
   "cell_type": "code",
   "execution_count": 9,
   "id": "cb72e142-fff2-4400-998d-8be021a8902f",
   "metadata": {},
   "outputs": [],
   "source": [
    "# do batches\n",
    "train_loader = DataLoader(train_data, batch_size=16, shuffle=True)\n",
    "val_loader = DataLoader(val_data, batch_size=16, shuffle=False)\n",
    "test_loader = DataLoader(test_data, batch_size=16, shuffle=False)"
   ]
  },
  {
   "cell_type": "markdown",
   "id": "39ad8a96-fee4-4eb5-823f-7694b081ba79",
   "metadata": {},
   "source": [
    "#### Do the same with ImageFolder, provided in torch"
   ]
  },
  {
   "cell_type": "markdown",
   "id": "1347ef47-56bf-429f-8800-8f1e68baace8",
   "metadata": {},
   "source": [
    "<b>Note:</b><i>ImageFolder</i> fits only for presented data organisation(check and run data creating script)"
   ]
  },
  {
   "cell_type": "code",
   "execution_count": 10,
   "id": "a81a77f8-f2db-4c80-a932-c8e97af975c1",
   "metadata": {},
   "outputs": [],
   "source": [
    "train_data = ImageFolder(os.path.join(path, 'training'))\n",
    "test_data = ImageFolder(os.path.join(path, 'testing'))"
   ]
  },
  {
   "cell_type": "code",
   "execution_count": 11,
   "id": "e14453e8-2be9-4852-88da-ae0e4bd6a4ae",
   "metadata": {},
   "outputs": [
    {
     "data": {
      "text/plain": [
       "['class_0',\n",
       " 'class_1',\n",
       " 'class_2',\n",
       " 'class_3',\n",
       " 'class_4',\n",
       " 'class_5',\n",
       " 'class_6',\n",
       " 'class_7',\n",
       " 'class_8',\n",
       " 'class_9']"
      ]
     },
     "execution_count": 11,
     "metadata": {},
     "output_type": "execute_result"
    }
   ],
   "source": [
    "train_data.classes"
   ]
  },
  {
   "cell_type": "code",
   "execution_count": 12,
   "id": "590b7f92-bf6f-4a9c-abeb-548c0f864f23",
   "metadata": {},
   "outputs": [
    {
     "data": {
      "text/plain": [
       "{'class_0': 0,\n",
       " 'class_1': 1,\n",
       " 'class_2': 2,\n",
       " 'class_3': 3,\n",
       " 'class_4': 4,\n",
       " 'class_5': 5,\n",
       " 'class_6': 6,\n",
       " 'class_7': 7,\n",
       " 'class_8': 8,\n",
       " 'class_9': 9}"
      ]
     },
     "execution_count": 12,
     "metadata": {},
     "output_type": "execute_result"
    }
   ],
   "source": [
    "train_data.class_to_idx"
   ]
  },
  {
   "cell_type": "code",
   "execution_count": 13,
   "id": "efa0804a-ffbb-48b4-8c23-77159e6c5d6e",
   "metadata": {},
   "outputs": [
    {
     "name": "stdout",
     "output_type": "stream",
     "text": [
      "Class - class_0\n"
     ]
    },
    {
     "data": {
      "text/plain": [
       "<matplotlib.image.AxesImage at 0x7d52b2d6d210>"
      ]
     },
     "execution_count": 13,
     "metadata": {},
     "output_type": "execute_result"
    },
    {
     "data": {
      "image/png": "[encoded data removed]",
      "text/plain": [
       "<Figure size 640x480 with 1 Axes>"
      ]
     },
     "metadata": {},
     "output_type": "display_data"
    }
   ],
   "source": [
    "# check image and classes\n",
    "img, one_hot_position = train_data[2564]\n",
    "\n",
    "cls = train_data.classes[one_hot_position]\n",
    "print(f'Class - {cls}')\n",
    "plt.imshow(img, cmap='grey')"
   ]
  },
  {
   "cell_type": "code",
   "execution_count": 14,
   "id": "d4a93593-b844-4fc6-8fe5-37be665a31e9",
   "metadata": {},
   "outputs": [],
   "source": [
    "# and also split the data\n",
    "train_data, val_data = random_split(train_data, [0.8, 0.2])\n",
    "\n",
    "train_loader = DataLoader(train_data, batch_size=16, shuffle=True)\n",
    "val_loader = DataLoader(val_data, batch_size=16, shuffle=False)\n",
    "test_loader = DataLoader(test_data, batch_size=16, shuffle=False)"
   ]
  },
  {
   "cell_type": "markdown",
   "id": "2fbaca7e-196b-4ff0-9bb0-0a1d02b022df",
   "metadata": {},
   "source": [
    "#### Result is the same in both ways!"
   ]
  }
 ],
 "metadata": {
  "kernelspec": {
   "display_name": "Python 3 (ipykernel)",
   "language": "python",
   "name": "python3"
  },
  "language_info": {
   "codemirror_mode": {
    "name": "ipython",
    "version": 3
   },
   "file_extension": ".py",
   "mimetype": "text/x-python",
   "name": "python",
   "nbconvert_exporter": "python",
   "pygments_lexer": "ipython3",
   "version": "3.10.12"
  }
 },
 "nbformat": 4,
 "nbformat_minor": 5
}
