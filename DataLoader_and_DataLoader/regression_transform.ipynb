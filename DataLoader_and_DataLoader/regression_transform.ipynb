{
 "cells": [
  {
   "cell_type": "markdown",
   "id": "150a3ef6-469a-4083-b7c3-4e10d2894b75",
   "metadata": {},
   "source": [
    "### Transform regression dataset"
   ]
  },
  {
   "cell_type": "code",
   "execution_count": 1,
   "id": "6653b772-baeb-4f8a-917a-5a1153c432c1",
   "metadata": {},
   "outputs": [],
   "source": [
    "import torch\n",
    "import torchvision\n",
    "\n",
    "from torch.utils.data import Dataset, DataLoader, random_split\n",
    "from torchvision.datasets import ImageFolder\n",
    "\n",
    "from torchvision.transforms import v2"
   ]
  },
  {
   "cell_type": "code",
   "execution_count": 2,
   "id": "6b75b8f5-b2cc-4803-bafc-399292e4b6b7",
   "metadata": {},
   "outputs": [],
   "source": [
    "import os\n",
    "import json\n",
    "\n",
    "import numpy as np\n",
    "\n",
    "from PIL import Image"
   ]
  },
  {
   "cell_type": "code",
   "execution_count": 3,
   "id": "4931e0df-62e5-488e-8220-4ba9698fa2b4",
   "metadata": {},
   "outputs": [],
   "source": [
    "import warnings\n",
    "\n",
    "warnings.filterwarnings('ignore')"
   ]
  },
  {
   "cell_type": "code",
   "execution_count": 4,
   "id": "f9842b68-296b-4f5b-821c-3a89da87fa14",
   "metadata": {},
   "outputs": [],
   "source": [
    "class DatasetReg(Dataset):\n",
    "    def __init__(self, path, transform=None):\n",
    "        self.path = path\n",
    "        self.transform = transform\n",
    "\n",
    "        self.list_name_file = os.listdir(path)\n",
    "        if 'coords.json' in self.list_name_file:\n",
    "            self.list_name_file.remove('coords.json')\n",
    "\n",
    "        self.len_dataset = len(self.list_name_file)\n",
    "\n",
    "        with open(os.path.join(self.path, 'coords.json'), 'r') as f:\n",
    "            self.dict_coords = json.load(f)\n",
    "        \n",
    "    def __len__(self):\n",
    "        return self.len_dataset\n",
    "\n",
    "    def __getitem__(self, index):\n",
    "        name_file = self.list_name_file[index]\n",
    "        path_img = os.path.join(self.path, name_file)\n",
    "\n",
    "        img = Image.open(path_img)\n",
    "        coords = torch.tensor(self.dict_coords[name_file], dtype=torch.float32)\n",
    "\n",
    "        if self.transform:\n",
    "            img = self.transform(img)\n",
    "\n",
    "        return img, coords"
   ]
  },
  {
   "cell_type": "code",
   "execution_count": 5,
   "id": "6eea3539-8ded-4cf7-96c1-fc5ee4fa480e",
   "metadata": {},
   "outputs": [],
   "source": [
    "transform = v2.Compose(\n",
    "    [\n",
    "        v2.ToImage(),\n",
    "        v2.ToDtype(torch.float32, scale=True),\n",
    "        v2.Normalize(mean=(0.5, ), std=(0.5, ))\n",
    "    ]\n",
    ")"
   ]
  },
  {
   "cell_type": "code",
   "execution_count": 6,
   "id": "d9a9eb3b-a7ba-4248-8748-c05922d1bbd1",
   "metadata": {},
   "outputs": [],
   "source": [
    "dataset = DatasetReg(os.path.join(os.getcwd(), 'dataset'), transform=transform)"
   ]
  },
  {
   "cell_type": "code",
   "execution_count": 7,
   "id": "b023f781-5421-4a99-8b7b-d37cf5dff28c",
   "metadata": {},
   "outputs": [],
   "source": [
    "# split data\n",
    "train_data, val_data, test_data = random_split(dataset, [0.7, 0.1, 0.2])"
   ]
  },
  {
   "cell_type": "code",
   "execution_count": 8,
   "id": "6fa23b56-4ea5-460f-8148-5f5d11353db2",
   "metadata": {},
   "outputs": [],
   "source": [
    "train_loader = DataLoader(train_data, batch_size=64, shuffle=True)\n",
    "val_loader = DataLoader(val_data, batch_size=64, shuffle=False)\n",
    "test_loader = DataLoader(test_data, batch_size=64, shuffle=False)"
   ]
  },
  {
   "cell_type": "code",
   "execution_count": 9,
   "id": "3271c546-0494-4c29-9e95-d53054009c63",
   "metadata": {},
   "outputs": [
    {
     "name": "stdout",
     "output_type": "stream",
     "text": [
      "Imgs:\n",
      "    <class 'torch.Tensor'>\n",
      "    torch.Size([64, 1, 64, 64])\n",
      "    torch.float32\n",
      "    min = -1.0, max = 0.7960785627365112\n",
      "coord:\n",
      "    <class 'torch.Tensor'>\n",
      "    torch.Size([64, 2])\n",
      "    torch.float32\n"
     ]
    }
   ],
   "source": [
    "imgs, coord = next(iter(train_loader))\n",
    "\n",
    "print('Imgs:')\n",
    "print(f'    {type(imgs)}')\n",
    "print(f'    {imgs.shape}')\n",
    "print(f'    {imgs.dtype}')\n",
    "print(f'    min = {imgs.min()}, max = {imgs.max()}')\n",
    "print('coord:')\n",
    "print(f'    {type(coord)}')\n",
    "print(f'    {coord.shape}')\n",
    "print(f'    {coord.dtype}')"
   ]
  },
  {
   "cell_type": "code",
   "execution_count": 10,
   "id": "52631461-c989-4b51-a4e7-0aeaf3a062ea",
   "metadata": {},
   "outputs": [
    {
     "name": "stdout",
     "output_type": "stream",
     "text": [
      "Imgs:\n",
      "    <class 'torch.Tensor'>\n",
      "    torch.Size([64, 1, 64, 64])\n",
      "    torch.float32\n",
      "    min = -1.0, max = 0.8196079730987549\n",
      "cls:\n",
      "    <class 'torch.Tensor'>\n",
      "    torch.Size([64, 2])\n",
      "    torch.float32\n"
     ]
    }
   ],
   "source": [
    "imgs, cls = next(iter(train_loader))\n",
    "\n",
    "print('Imgs:')\n",
    "print(f'    {type(imgs)}')\n",
    "print(f'    {imgs.shape}')\n",
    "print(f'    {imgs.dtype}')\n",
    "print(f'    min = {imgs.min()}, max = {imgs.max()}')\n",
    "print('cls:')\n",
    "print(f'    {type(cls)}')\n",
    "print(f'    {cls.shape}')\n",
    "print(f'    {cls.dtype}')"
   ]
  }
 ],
 "metadata": {
  "kernelspec": {
   "display_name": "Python 3 (ipykernel)",
   "language": "python",
   "name": "python3"
  },
  "language_info": {
   "codemirror_mode": {
    "name": "ipython",
    "version": 3
   },
   "file_extension": ".py",
   "mimetype": "text/x-python",
   "name": "python",
   "nbconvert_exporter": "python",
   "pygments_lexer": "ipython3",
   "version": "3.10.12"
  }
 },
 "nbformat": 4,
 "nbformat_minor": 5
}
