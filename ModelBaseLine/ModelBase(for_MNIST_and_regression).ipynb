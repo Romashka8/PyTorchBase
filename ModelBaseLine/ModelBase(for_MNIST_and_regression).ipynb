{
 "cells": [
  {
   "cell_type": "code",
   "execution_count": 1,
   "id": "c67a6f07-a710-4f78-b47e-2eca3b20cd96",
   "metadata": {},
   "outputs": [],
   "source": [
    "import torch\n",
    "import torch.nn as nn"
   ]
  },
  {
   "cell_type": "markdown",
   "id": "d969c6d4-b8ec-46a4-ab36-83686ea1d061",
   "metadata": {},
   "source": [
    "### Create base model for regression and classification"
   ]
  },
  {
   "cell_type": "code",
   "execution_count": 2,
   "id": "b58104c2-8673-4d80-b4b1-d7688c1f313f",
   "metadata": {},
   "outputs": [],
   "source": [
    "class MyModel(nn.Module):\n",
    "    def __init__(self, input, output):\n",
    "        super().__init__()\n",
    "        self.layer_1 = nn.Linear(input, 128)\n",
    "        self.act = nn.ReLU()\n",
    "        self.layer_2 = nn.Linear(128, output)\n",
    "\n",
    "    def forward(self, x):\n",
    "        x = self.layer_1(x)\n",
    "        x = self.act(x)\n",
    "        out = self.layer_2(x)\n",
    "        return out"
   ]
  },
  {
   "cell_type": "markdown",
   "id": "d5ff5c0f-0dfc-4cdc-a888-e0526342ac55",
   "metadata": {},
   "source": [
    "#### Create classification model"
   ]
  },
  {
   "cell_type": "code",
   "execution_count": 3,
   "id": "4b215d54-3573-45bf-bb79-ad12fcaf1718",
   "metadata": {},
   "outputs": [],
   "source": [
    "model_classification = MyModel(784, 10)"
   ]
  },
  {
   "cell_type": "code",
   "execution_count": 4,
   "id": "4c33de72-9b52-4b41-8c1b-c05ae0310cca",
   "metadata": {},
   "outputs": [],
   "source": [
    "# define loss and optimizer\n",
    "loss_classification = nn.CrossEntropyLoss()\n",
    "opt_classification = torch.optim.Adam(model_classification.parameters(), lr=1e-3)"
   ]
  },
  {
   "cell_type": "code",
   "execution_count": 5,
   "id": "d4e95cc6-11f6-4082-9106-6613f33f9c9d",
   "metadata": {},
   "outputs": [
    {
     "data": {
      "text/plain": [
       "torch.Size([16, 10])"
      ]
     },
     "execution_count": 5,
     "metadata": {},
     "output_type": "execute_result"
    }
   ],
   "source": [
    "# check\n",
    "input = torch.rand([16, 784], dtype=torch.float32)\n",
    "\n",
    "out = model_classification(input)\n",
    "out.shape"
   ]
  },
  {
   "cell_type": "markdown",
   "id": "d0ad048d-5171-4602-ac1c-c8a38e5ffa0d",
   "metadata": {},
   "source": [
    "#### Create regression model"
   ]
  },
  {
   "cell_type": "code",
   "execution_count": 6,
   "id": "fccc161d-2d84-4fad-92c7-0d4707d16d4c",
   "metadata": {},
   "outputs": [],
   "source": [
    "model_regression = MyModel(64 * 64, 2)"
   ]
  },
  {
   "cell_type": "code",
   "execution_count": 7,
   "id": "9f9536e7-97a2-41c4-921b-9c5ee8be3b65",
   "metadata": {},
   "outputs": [],
   "source": [
    "# define loss and optimizer\n",
    "loss_regression = nn.MSELoss()\n",
    "opt_regression = torch.optim.Adam(model_regression.parameters(), lr=1e-3)"
   ]
  },
  {
   "cell_type": "code",
   "execution_count": 8,
   "id": "391c91c8-9a72-47a5-b67d-a24042f49282",
   "metadata": {},
   "outputs": [
    {
     "data": {
      "text/plain": [
       "torch.Size([16, 2])"
      ]
     },
     "execution_count": 8,
     "metadata": {},
     "output_type": "execute_result"
    }
   ],
   "source": [
    "# check\n",
    "input = torch.rand([16, 64*64], dtype=torch.float32)\n",
    "\n",
    "out = model_regression(input)\n",
    "out.shape"
   ]
  }
 ],
 "metadata": {
  "kernelspec": {
   "display_name": "Python 3 (ipykernel)",
   "language": "python",
   "name": "python3"
  },
  "language_info": {
   "codemirror_mode": {
    "name": "ipython",
    "version": 3
   },
   "file_extension": ".py",
   "mimetype": "text/x-python",
   "name": "python",
   "nbconvert_exporter": "python",
   "pygments_lexer": "ipython3",
   "version": "3.10.12"
  }
 },
 "nbformat": 4,
 "nbformat_minor": 5
}
