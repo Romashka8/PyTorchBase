{
 "cells": [
  {
   "cell_type": "code",
   "execution_count": 1,
   "id": "532dfdbd-7521-4cce-bd57-24567cdbb1e0",
   "metadata": {},
   "outputs": [],
   "source": [
    "import torch\n",
    "import torch.nn as nn"
   ]
  },
  {
   "cell_type": "code",
   "execution_count": 2,
   "id": "61b9876b-2569-4d04-851e-0b97699fce84",
   "metadata": {},
   "outputs": [],
   "source": [
    "# create more difficult model\n",
    "class MyModel(nn.Module):\n",
    "    def __init__(self, in_channels, out):\n",
    "        super().__init__()\n",
    "        # this model consists of another models\n",
    "        self.conv = nn.Sequential(\n",
    "            nn.Conv2d(in_channels, 32, (3, 3), bias=False),\n",
    "            nn.BatchNorm2d(32),\n",
    "            nn.ReLU(),\n",
    "            nn.Conv2d(32, 64, (3, 3), bias=False),\n",
    "            nn.BatchNorm2d(64),\n",
    "            nn.ReLU()\n",
    "        )\n",
    "\n",
    "        self.flatten = nn.Flatten()\n",
    "        # linear layer(fully-connected)\n",
    "        self.fc = nn.Sequential(\n",
    "            nn.Linear(64 * 24 * 24, 128),\n",
    "            nn.ReLU(),\n",
    "            nn.Dropout(0.5),\n",
    "            nn.Linear(128, out)\n",
    "        )\n",
    "\n",
    "    def forward(self, x):\n",
    "        x = self.conv(x)\n",
    "        x = self.flatten(x)\n",
    "        out = self.fc(x)\n",
    "        return out"
   ]
  },
  {
   "cell_type": "code",
   "execution_count": 3,
   "id": "84f14534-572a-4134-a805-aa1923a51e80",
   "metadata": {},
   "outputs": [],
   "source": [
    "model_classification = MyModel(1, 10)"
   ]
  },
  {
   "cell_type": "code",
   "execution_count": 4,
   "id": "d3cf0816-908e-4395-b137-11507fbd5786",
   "metadata": {},
   "outputs": [],
   "source": [
    "loss_classification = nn.CrossEntropyLoss()\n",
    "opt_classification = torch.optim.Adam(model_classification.parameters(), lr=1e-3)"
   ]
  },
  {
   "cell_type": "code",
   "execution_count": 5,
   "id": "d48a2070-fd98-4f5e-a2cc-068cf9173df6",
   "metadata": {},
   "outputs": [
    {
     "data": {
      "text/plain": [
       "torch.Size([16, 10])"
      ]
     },
     "execution_count": 5,
     "metadata": {},
     "output_type": "execute_result"
    }
   ],
   "source": [
    "input = torch.randn([16, 1, 28, 28], dtype=torch.float32)\n",
    "\n",
    "out = model_classification(input)\n",
    "out.shape"
   ]
  }
 ],
 "metadata": {
  "kernelspec": {
   "display_name": "Python 3 (ipykernel)",
   "language": "python",
   "name": "python3"
  },
  "language_info": {
   "codemirror_mode": {
    "name": "ipython",
    "version": 3
   },
   "file_extension": ".py",
   "mimetype": "text/x-python",
   "name": "python",
   "nbconvert_exporter": "python",
   "pygments_lexer": "ipython3",
   "version": "3.10.12"
  }
 },
 "nbformat": 4,
 "nbformat_minor": 5
}
