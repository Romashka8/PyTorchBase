{
 "cells": [
  {
   "cell_type": "code",
   "execution_count": 1,
   "id": "05c02bf8-33f2-4d22-b083-9d82db6a25ba",
   "metadata": {},
   "outputs": [],
   "source": [
    "import torch"
   ]
  },
  {
   "cell_type": "markdown",
   "id": "c1eee238-6820-4f22-9774-ff4086699090",
   "metadata": {},
   "source": [
    "### Build in instruments"
   ]
  },
  {
   "cell_type": "code",
   "execution_count": 2,
   "id": "20b72cec-fd9a-48d2-9360-9cf5375d0b35",
   "metadata": {},
   "outputs": [
    {
     "data": {
      "text/plain": [
       "Sequential(\n",
       "  (0): Linear(in_features=784, out_features=128, bias=True)\n",
       "  (1): ReLU()\n",
       "  (2): Linear(in_features=128, out_features=10, bias=True)\n",
       ")"
      ]
     },
     "execution_count": 2,
     "metadata": {},
     "output_type": "execute_result"
    }
   ],
   "source": [
    "# we can create Sequential Model like this\n",
    "model = torch.nn.Sequential(\n",
    "    torch.nn.Linear(784, 128),\n",
    "    torch.nn.ReLU(),\n",
    "    torch.nn.Linear(128, 10)\n",
    ")\n",
    "\n",
    "model"
   ]
  },
  {
   "cell_type": "code",
   "execution_count": 3,
   "id": "702b4377-8ff3-4e7c-beff-deb0de80826b",
   "metadata": {},
   "outputs": [
    {
     "data": {
      "text/plain": [
       "torch.Size([16, 10])"
      ]
     },
     "execution_count": 3,
     "metadata": {},
     "output_type": "execute_result"
    }
   ],
   "source": [
    "# test our model\n",
    "input = torch.rand([16, 784], dtype=torch.float32)\n",
    "\n",
    "out = model(input)\n",
    "out.shape"
   ]
  },
  {
   "cell_type": "code",
   "execution_count": 4,
   "id": "45e806dd-e657-495d-bc70-4a7a6bd358ee",
   "metadata": {},
   "outputs": [],
   "source": [
    "# our we can register our layers mannualy\n",
    "model = torch.nn.Sequential()\n",
    "model.add_module('layer_1', torch.nn.Linear(784, 128))\n",
    "model.add_module('ReLU', torch.nn.ReLU())\n",
    "model.add_module('layer_2', torch.nn.Linear(128, 10))"
   ]
  },
  {
   "cell_type": "code",
   "execution_count": 5,
   "id": "56861505-23a0-4733-b218-5dd88dbef3b2",
   "metadata": {},
   "outputs": [
    {
     "data": {
      "text/plain": [
       "torch.Size([16, 10])"
      ]
     },
     "execution_count": 5,
     "metadata": {},
     "output_type": "execute_result"
    }
   ],
   "source": [
    "# test our model\n",
    "input = torch.rand([16, 784], dtype=torch.float32)\n",
    "\n",
    "out = model(input)\n",
    "out.shape"
   ]
  },
  {
   "cell_type": "code",
   "execution_count": 6,
   "id": "a59bb7e2-0449-4323-9ec9-ae588f76521b",
   "metadata": {},
   "outputs": [
    {
     "data": {
      "text/plain": [
       "OrderedDict([('layer_1.weight',\n",
       "              tensor([[ 0.0253,  0.0143, -0.0203,  ..., -0.0171, -0.0241,  0.0193],\n",
       "                      [-0.0234, -0.0106,  0.0014,  ..., -0.0020, -0.0188,  0.0013],\n",
       "                      [-0.0074,  0.0121, -0.0268,  ...,  0.0354, -0.0289, -0.0101],\n",
       "                      ...,\n",
       "                      [ 0.0317,  0.0256, -0.0030,  ..., -0.0293,  0.0112, -0.0202],\n",
       "                      [-0.0220, -0.0230, -0.0263,  ..., -0.0303, -0.0316,  0.0074],\n",
       "                      [ 0.0152,  0.0150, -0.0074,  ..., -0.0198,  0.0104,  0.0034]])),\n",
       "             ('layer_1.bias',\n",
       "              tensor([ 0.0031, -0.0310,  0.0238,  0.0299,  0.0060, -0.0134,  0.0305,  0.0253,\n",
       "                      -0.0300,  0.0167,  0.0021, -0.0080,  0.0320, -0.0161,  0.0238,  0.0330,\n",
       "                      -0.0070, -0.0020,  0.0182,  0.0308, -0.0293,  0.0022, -0.0047,  0.0253,\n",
       "                       0.0018,  0.0200,  0.0105,  0.0018,  0.0288, -0.0170, -0.0264,  0.0263,\n",
       "                      -0.0320,  0.0162,  0.0261,  0.0205,  0.0298,  0.0222, -0.0344,  0.0339,\n",
       "                       0.0350, -0.0162, -0.0148, -0.0202, -0.0128, -0.0209, -0.0221, -0.0261,\n",
       "                      -0.0117, -0.0344,  0.0157,  0.0186,  0.0209,  0.0344,  0.0315, -0.0307,\n",
       "                       0.0224, -0.0332,  0.0176, -0.0215,  0.0052,  0.0089,  0.0203,  0.0113,\n",
       "                       0.0309, -0.0306, -0.0195, -0.0302,  0.0021, -0.0262, -0.0085,  0.0247,\n",
       "                       0.0065,  0.0076, -0.0134, -0.0273,  0.0347,  0.0213, -0.0329,  0.0288,\n",
       "                       0.0108, -0.0024, -0.0297,  0.0001,  0.0294, -0.0083, -0.0247,  0.0095,\n",
       "                       0.0185, -0.0236, -0.0295, -0.0340,  0.0014,  0.0045,  0.0227,  0.0316,\n",
       "                       0.0027,  0.0294, -0.0131, -0.0353,  0.0116,  0.0182, -0.0289, -0.0134,\n",
       "                       0.0296, -0.0348,  0.0349, -0.0174,  0.0053,  0.0082, -0.0331,  0.0015,\n",
       "                       0.0166, -0.0251, -0.0280,  0.0107,  0.0168,  0.0109, -0.0202, -0.0022,\n",
       "                       0.0016, -0.0143,  0.0309,  0.0095,  0.0022, -0.0133, -0.0213, -0.0270])),\n",
       "             ('layer_2.weight',\n",
       "              tensor([[-0.0278, -0.0621,  0.0686,  ..., -0.0447,  0.0462, -0.0485],\n",
       "                      [ 0.0304, -0.0069,  0.0020,  ..., -0.0260,  0.0687, -0.0062],\n",
       "                      [-0.0021, -0.0255, -0.0285,  ..., -0.0766, -0.0707,  0.0123],\n",
       "                      ...,\n",
       "                      [ 0.0782, -0.0620,  0.0821,  ...,  0.0302, -0.0517, -0.0686],\n",
       "                      [ 0.0782, -0.0179, -0.0457,  ..., -0.0505, -0.0859,  0.0572],\n",
       "                      [-0.0868, -0.0252,  0.0880,  ..., -0.0253,  0.0798,  0.0652]])),\n",
       "             ('layer_2.bias',\n",
       "              tensor([ 0.0481, -0.0459,  0.0423,  0.0232,  0.0148,  0.0772, -0.0139,  0.0737,\n",
       "                      -0.0047,  0.0816]))])"
      ]
     },
     "execution_count": 6,
     "metadata": {},
     "output_type": "execute_result"
    }
   ],
   "source": [
    "# get model state dictionary\n",
    "model.state_dict()"
   ]
  },
  {
   "cell_type": "code",
   "execution_count": 7,
   "id": "373e137a-76ef-4ff6-bdd6-82a50ca6391e",
   "metadata": {},
   "outputs": [
    {
     "name": "stdout",
     "output_type": "stream",
     "text": [
      "Parameter containing:\n",
      "tensor([[ 0.0253,  0.0143, -0.0203,  ..., -0.0171, -0.0241,  0.0193],\n",
      "        [-0.0234, -0.0106,  0.0014,  ..., -0.0020, -0.0188,  0.0013],\n",
      "        [-0.0074,  0.0121, -0.0268,  ...,  0.0354, -0.0289, -0.0101],\n",
      "        ...,\n",
      "        [ 0.0317,  0.0256, -0.0030,  ..., -0.0293,  0.0112, -0.0202],\n",
      "        [-0.0220, -0.0230, -0.0263,  ..., -0.0303, -0.0316,  0.0074],\n",
      "        [ 0.0152,  0.0150, -0.0074,  ..., -0.0198,  0.0104,  0.0034]],\n",
      "       requires_grad=True)\n",
      "torch.Size([128, 784])\n",
      "\n",
      "Parameter containing:\n",
      "tensor([ 0.0031, -0.0310,  0.0238,  0.0299,  0.0060, -0.0134,  0.0305,  0.0253,\n",
      "        -0.0300,  0.0167,  0.0021, -0.0080,  0.0320, -0.0161,  0.0238,  0.0330,\n",
      "        -0.0070, -0.0020,  0.0182,  0.0308, -0.0293,  0.0022, -0.0047,  0.0253,\n",
      "         0.0018,  0.0200,  0.0105,  0.0018,  0.0288, -0.0170, -0.0264,  0.0263,\n",
      "        -0.0320,  0.0162,  0.0261,  0.0205,  0.0298,  0.0222, -0.0344,  0.0339,\n",
      "         0.0350, -0.0162, -0.0148, -0.0202, -0.0128, -0.0209, -0.0221, -0.0261,\n",
      "        -0.0117, -0.0344,  0.0157,  0.0186,  0.0209,  0.0344,  0.0315, -0.0307,\n",
      "         0.0224, -0.0332,  0.0176, -0.0215,  0.0052,  0.0089,  0.0203,  0.0113,\n",
      "         0.0309, -0.0306, -0.0195, -0.0302,  0.0021, -0.0262, -0.0085,  0.0247,\n",
      "         0.0065,  0.0076, -0.0134, -0.0273,  0.0347,  0.0213, -0.0329,  0.0288,\n",
      "         0.0108, -0.0024, -0.0297,  0.0001,  0.0294, -0.0083, -0.0247,  0.0095,\n",
      "         0.0185, -0.0236, -0.0295, -0.0340,  0.0014,  0.0045,  0.0227,  0.0316,\n",
      "         0.0027,  0.0294, -0.0131, -0.0353,  0.0116,  0.0182, -0.0289, -0.0134,\n",
      "         0.0296, -0.0348,  0.0349, -0.0174,  0.0053,  0.0082, -0.0331,  0.0015,\n",
      "         0.0166, -0.0251, -0.0280,  0.0107,  0.0168,  0.0109, -0.0202, -0.0022,\n",
      "         0.0016, -0.0143,  0.0309,  0.0095,  0.0022, -0.0133, -0.0213, -0.0270],\n",
      "       requires_grad=True)\n",
      "torch.Size([128])\n",
      "\n",
      "Parameter containing:\n",
      "tensor([[-0.0278, -0.0621,  0.0686,  ..., -0.0447,  0.0462, -0.0485],\n",
      "        [ 0.0304, -0.0069,  0.0020,  ..., -0.0260,  0.0687, -0.0062],\n",
      "        [-0.0021, -0.0255, -0.0285,  ..., -0.0766, -0.0707,  0.0123],\n",
      "        ...,\n",
      "        [ 0.0782, -0.0620,  0.0821,  ...,  0.0302, -0.0517, -0.0686],\n",
      "        [ 0.0782, -0.0179, -0.0457,  ..., -0.0505, -0.0859,  0.0572],\n",
      "        [-0.0868, -0.0252,  0.0880,  ..., -0.0253,  0.0798,  0.0652]],\n",
      "       requires_grad=True)\n",
      "torch.Size([10, 128])\n",
      "\n",
      "Parameter containing:\n",
      "tensor([ 0.0481, -0.0459,  0.0423,  0.0232,  0.0148,  0.0772, -0.0139,  0.0737,\n",
      "        -0.0047,  0.0816], requires_grad=True)\n",
      "torch.Size([10])\n",
      "\n"
     ]
    }
   ],
   "source": [
    "# get model optimisation parameters(training parameters)\n",
    "# in this form they usually comes in optimisation algorithm\n",
    "for parameter in model.parameters():\n",
    "    print(parameter)\n",
    "    print(parameter.shape, end='\\n\\n')"
   ]
  },
  {
   "cell_type": "code",
   "execution_count": 8,
   "id": "246a3429-1f53-48a2-804a-cfc3947e43d3",
   "metadata": {},
   "outputs": [
    {
     "data": {
      "text/plain": [
       "Sequential(\n",
       "  (layer_1): Linear(in_features=784, out_features=128, bias=True)\n",
       "  (ReLU): ReLU()\n",
       "  (layer_2): Linear(in_features=128, out_features=10, bias=True)\n",
       ")"
      ]
     },
     "execution_count": 8,
     "metadata": {},
     "output_type": "execute_result"
    }
   ],
   "source": [
    "# use before training\n",
    "model.train()\n",
    "# use before validation and testing\n",
    "model.eval()"
   ]
  },
  {
   "cell_type": "markdown",
   "id": "47f2ba15-ee33-4957-a07b-a2d298d475ab",
   "metadata": {},
   "source": [
    "<ul>Minuses in nn.Sequential\n",
    "    <li>Can not customize input/output shape</li>\n",
    "    <li>Can not use layers in our own order</li>\n",
    "</ul>"
   ]
  },
  {
   "cell_type": "markdown",
   "id": "d601b098-eac1-42ca-8b7d-f892c1f84e02",
   "metadata": {},
   "source": [
    "### Write down our own model classes"
   ]
  },
  {
   "cell_type": "code",
   "execution_count": 9,
   "id": "39109c60-41ac-473b-9291-9710c7f575c7",
   "metadata": {},
   "outputs": [],
   "source": [
    "# class with custom input/output\n",
    "class MyModel(torch.nn.Module):\n",
    "    def __init__(self, input, output):\n",
    "        super().__init__()\n",
    "        # register our layers\n",
    "        self.layer_1 = torch.nn.Linear(input, 128)\n",
    "        self.act = torch.nn.ReLU()\n",
    "        self.layer_2 = torch.nn.Linear(128, output)\n",
    "\n",
    "    def forward(self, x):\n",
    "        x = self.layer_1(x)\n",
    "        x = self.act(x)\n",
    "        out = self.layer_2(x)\n",
    "        return out"
   ]
  },
  {
   "cell_type": "code",
   "execution_count": 10,
   "id": "d6031b54-b752-45ab-bd10-a3923a1ebc6c",
   "metadata": {},
   "outputs": [],
   "source": [
    "model = MyModel(784, 10)"
   ]
  },
  {
   "cell_type": "code",
   "execution_count": 11,
   "id": "3b76ea2d-1755-4b92-931c-d36a9632c347",
   "metadata": {},
   "outputs": [
    {
     "data": {
      "text/plain": [
       "torch.Size([16, 10])"
      ]
     },
     "execution_count": 11,
     "metadata": {},
     "output_type": "execute_result"
    }
   ],
   "source": [
    "# check\n",
    "input = torch.rand([16, 784], dtype=torch.float32)\n",
    "\n",
    "out = model(input)\n",
    "out.shape"
   ]
  },
  {
   "cell_type": "markdown",
   "id": "e63094cf-48c5-4bda-8bc7-12081d5ec7af",
   "metadata": {},
   "source": [
    "#### Multiply input/output"
   ]
  },
  {
   "cell_type": "code",
   "execution_count": 12,
   "id": "e0dee01d-6c63-4ec2-991d-34d87a047bb4",
   "metadata": {},
   "outputs": [],
   "source": [
    "class MyModel(torch.nn.Module):\n",
    "    def __init__(self, input, output):\n",
    "        super().__init__()\n",
    "        self.layer_1 = torch.nn.Linear(input, 128)\n",
    "        self.act = torch.nn.ReLU()\n",
    "        self.layer_2 = torch.nn.Linear(128, output)\n",
    "\n",
    "    def forward(self, x, y):\n",
    "        x = self.layer_1(x)\n",
    "        x = self.act(x + y)\n",
    "        out = self.layer_2(x)\n",
    "        return out, x"
   ]
  },
  {
   "cell_type": "code",
   "execution_count": 13,
   "id": "2594062a-dddb-4357-87e0-c36d1e1631d4",
   "metadata": {},
   "outputs": [],
   "source": [
    "model = MyModel(784, 10)"
   ]
  },
  {
   "cell_type": "code",
   "execution_count": 14,
   "id": "b0a2a9d2-6871-4c33-9d5b-0e4d0b097c03",
   "metadata": {},
   "outputs": [],
   "source": [
    "# check\n",
    "x = torch.rand([16, 784], dtype=torch.float32)\n",
    "y = torch.rand([16, 128], dtype=torch.float32)\n",
    "\n",
    "out = model(x, y)"
   ]
  },
  {
   "cell_type": "code",
   "execution_count": 15,
   "id": "c43bef1b-580e-4a10-b00a-c82c8ef9f467",
   "metadata": {},
   "outputs": [
    {
     "data": {
      "text/plain": [
       "2"
      ]
     },
     "execution_count": 15,
     "metadata": {},
     "output_type": "execute_result"
    }
   ],
   "source": [
    "len(out)"
   ]
  },
  {
   "cell_type": "code",
   "execution_count": 16,
   "id": "a721b800-5d50-4014-851e-e5944070278c",
   "metadata": {},
   "outputs": [
    {
     "data": {
      "text/plain": [
       "torch.Size([16, 10])"
      ]
     },
     "execution_count": 16,
     "metadata": {},
     "output_type": "execute_result"
    }
   ],
   "source": [
    "out[0].shape"
   ]
  },
  {
   "cell_type": "code",
   "execution_count": 17,
   "id": "3c73a49d-1209-482d-b3cd-17de8b186651",
   "metadata": {},
   "outputs": [
    {
     "data": {
      "text/plain": [
       "torch.Size([16, 128])"
      ]
     },
     "execution_count": 17,
     "metadata": {},
     "output_type": "execute_result"
    }
   ],
   "source": [
    "out[1].shape"
   ]
  },
  {
   "cell_type": "markdown",
   "id": "2e7fae50-f989-4687-8cab-be29c9d38090",
   "metadata": {},
   "source": [
    "### Using ModuleList and ModuleDict"
   ]
  },
  {
   "cell_type": "code",
   "execution_count": 18,
   "id": "996710d1-7f43-4941-b4c6-aab6502a8c7b",
   "metadata": {},
   "outputs": [],
   "source": [
    "class MyModel(torch.nn.Module):\n",
    "    def __init__(self, input, output, hidden_size=2048, choice='relu'):\n",
    "        super().__init__()\n",
    "        # torch.nn.ModuleDict({}) - save module names by keys. Fit for all layers, not only for regularisation.\n",
    "        self.activasions = torch.nn.ModuleDict({\n",
    "            'lrelu': torch.nn.LeakyReLU(),\n",
    "            'relu': torch.nn.ReLU()\n",
    "        })\n",
    "        # nn.ModuleList() - need to write forward pass login(unlike of sequential).\n",
    "        self.layers = torch.nn.ModuleList()\n",
    "        for i in range(10):\n",
    "            self.layers.add_module(f'layer_{i}', torch.nn.Linear(input, hidden_size))\n",
    "            self.layers.add_module(f'act_{i}', self.activasions[choice])\n",
    "            input = hidden_size\n",
    "            hidden_size = int(hidden_size // 2)\n",
    "        self.layers.add_module('layer_out', torch.nn.Linear(input, output))\n",
    "        \n",
    "\n",
    "    def forward(self, x):\n",
    "        outputs = []\n",
    "        for i, layer in enumerate(self.layers):\n",
    "            x = layer(x)\n",
    "            if i != 0 and i % 2 == 0 and i % 4 != 0:\n",
    "                outputs.append(x)\n",
    "        outputs.append(x)\n",
    "        return outputs"
   ]
  },
  {
   "cell_type": "code",
   "execution_count": 19,
   "id": "ec180451-25b0-4a0a-8bfe-d02402cec6a9",
   "metadata": {},
   "outputs": [
    {
     "data": {
      "text/plain": [
       "MyModel(\n",
       "  (activasions): ModuleDict(\n",
       "    (lrelu): LeakyReLU(negative_slope=0.01)\n",
       "    (relu): ReLU()\n",
       "  )\n",
       "  (layers): ModuleList(\n",
       "    (0): Linear(in_features=784, out_features=2048, bias=True)\n",
       "    (1): ReLU()\n",
       "    (2): Linear(in_features=2048, out_features=1024, bias=True)\n",
       "    (3): ReLU()\n",
       "    (4): Linear(in_features=1024, out_features=512, bias=True)\n",
       "    (5): ReLU()\n",
       "    (6): Linear(in_features=512, out_features=256, bias=True)\n",
       "    (7): ReLU()\n",
       "    (8): Linear(in_features=256, out_features=128, bias=True)\n",
       "    (9): ReLU()\n",
       "    (10): Linear(in_features=128, out_features=64, bias=True)\n",
       "    (11): ReLU()\n",
       "    (12): Linear(in_features=64, out_features=32, bias=True)\n",
       "    (13): ReLU()\n",
       "    (14): Linear(in_features=32, out_features=16, bias=True)\n",
       "    (15): ReLU()\n",
       "    (16): Linear(in_features=16, out_features=8, bias=True)\n",
       "    (17): ReLU()\n",
       "    (18): Linear(in_features=8, out_features=4, bias=True)\n",
       "    (19): ReLU()\n",
       "    (20): Linear(in_features=4, out_features=2, bias=True)\n",
       "  )\n",
       ")"
      ]
     },
     "execution_count": 19,
     "metadata": {},
     "output_type": "execute_result"
    }
   ],
   "source": [
    "model = MyModel(784, 2)\n",
    "model"
   ]
  },
  {
   "cell_type": "code",
   "execution_count": 20,
   "id": "b50a3a64-c80f-4f9b-a527-68e0f6d55fe5",
   "metadata": {},
   "outputs": [],
   "source": [
    "# check\n",
    "input = torch.rand([16, 784], dtype=torch.float32)\n",
    "\n",
    "out = model(input)"
   ]
  },
  {
   "cell_type": "code",
   "execution_count": 21,
   "id": "26824e86-0304-44a6-9c03-ad741fd3654a",
   "metadata": {},
   "outputs": [
    {
     "data": {
      "text/plain": [
       "6"
      ]
     },
     "execution_count": 21,
     "metadata": {},
     "output_type": "execute_result"
    }
   ],
   "source": [
    "len(out)"
   ]
  }
 ],
 "metadata": {
  "kernelspec": {
   "display_name": "Python 3 (ipykernel)",
   "language": "python",
   "name": "python3"
  },
  "language_info": {
   "codemirror_mode": {
    "name": "ipython",
    "version": 3
   },
   "file_extension": ".py",
   "mimetype": "text/x-python",
   "name": "python",
   "nbconvert_exporter": "python",
   "pygments_lexer": "ipython3",
   "version": "3.10.12"
  }
 },
 "nbformat": 4,
 "nbformat_minor": 5
}
