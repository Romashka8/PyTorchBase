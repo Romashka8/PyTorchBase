{
 "cells": [
  {
   "cell_type": "code",
   "execution_count": 1,
   "id": "1623e565-0258-4b92-b197-b02b73eeba52",
   "metadata": {},
   "outputs": [],
   "source": [
    "import torch\n",
    "import torch.nn as nn"
   ]
  },
  {
   "cell_type": "code",
   "execution_count": 2,
   "id": "0a78260c-0d0a-4013-a36e-824b12314fbb",
   "metadata": {},
   "outputs": [],
   "source": [
    "# create more difficult model\n",
    "class MyModel(nn.Module):\n",
    "    def __init__(self, in_channels, out):\n",
    "        super().__init__()\n",
    "        # this model consists of another models\n",
    "        self.conv = nn.Sequential(\n",
    "            nn.Conv2d(in_channels, 32, (3, 3), bias=False),\n",
    "            nn.BatchNorm2d(32),\n",
    "            nn.ReLU(),\n",
    "            nn.Conv2d(32, 64, (3, 3), bias=False),\n",
    "            nn.BatchNorm2d(64),\n",
    "            nn.ReLU()\n",
    "        )\n",
    "\n",
    "        self.flatten = nn.Flatten()\n",
    "        # linear layer(fully-connected)\n",
    "        self.fc = nn.Sequential(\n",
    "            nn.Linear(64 * 60 * 60, 128),\n",
    "            nn.ReLU(),\n",
    "            nn.Dropout(0.5),\n",
    "            nn.Linear(128, out)\n",
    "        )\n",
    "\n",
    "    def forward(self, x):\n",
    "        x = self.conv(x)\n",
    "        x = self.flatten(x)\n",
    "        out = self.fc(x)\n",
    "        return out"
   ]
  },
  {
   "cell_type": "code",
   "execution_count": 3,
   "id": "3b560931-dc60-4c50-a65f-5f8c2bf5ddf0",
   "metadata": {},
   "outputs": [],
   "source": [
    "model_regression = MyModel(1, 2)"
   ]
  },
  {
   "cell_type": "code",
   "execution_count": 4,
   "id": "b262412a-3c95-4479-a08f-c642e14bc1e3",
   "metadata": {},
   "outputs": [],
   "source": [
    "loss_regression = nn.MSELoss()\n",
    "opt_regression = torch.optim.Adam(model_regression.parameters(), lr=1e-3)"
   ]
  },
  {
   "cell_type": "code",
   "execution_count": 5,
   "id": "4ba712fc-bec3-408a-9796-cba278d2cf8a",
   "metadata": {},
   "outputs": [
    {
     "data": {
      "text/plain": [
       "torch.Size([16, 2])"
      ]
     },
     "execution_count": 5,
     "metadata": {},
     "output_type": "execute_result"
    }
   ],
   "source": [
    "input = torch.randn([16, 1, 64, 64], dtype=torch.float32)\n",
    "\n",
    "out = model_regression(input)\n",
    "out.shape"
   ]
  }
 ],
 "metadata": {
  "kernelspec": {
   "display_name": "Python 3 (ipykernel)",
   "language": "python",
   "name": "python3"
  },
  "language_info": {
   "codemirror_mode": {
    "name": "ipython",
    "version": 3
   },
   "file_extension": ".py",
   "mimetype": "text/x-python",
   "name": "python",
   "nbconvert_exporter": "python",
   "pygments_lexer": "ipython3",
   "version": "3.10.12"
  }
 },
 "nbformat": 4,
 "nbformat_minor": 5
}
