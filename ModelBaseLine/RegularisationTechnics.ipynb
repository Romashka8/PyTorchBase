{
 "cells": [
  {
   "cell_type": "markdown",
   "id": "da4bd6b7-18bb-4bcf-9a6a-db1c14af9b3b",
   "metadata": {},
   "source": [
    "### Dropout"
   ]
  },
  {
   "cell_type": "code",
   "execution_count": 1,
   "id": "756340b0-071c-48ef-b059-6ab0150e7db9",
   "metadata": {},
   "outputs": [],
   "source": [
    "import torch\n",
    "import torch.nn as nn"
   ]
  },
  {
   "cell_type": "code",
   "execution_count": 2,
   "id": "c7e3c71b-4939-49e5-b494-d2049b77a9d1",
   "metadata": {},
   "outputs": [
    {
     "data": {
      "text/plain": [
       "Sequential(\n",
       "  (0): Linear(in_features=3, out_features=5, bias=True)\n",
       "  (1): ReLU()\n",
       "  (2): Dropout(p=0.5, inplace=False)\n",
       "  (3): Linear(in_features=5, out_features=4, bias=True)\n",
       ")"
      ]
     },
     "execution_count": 2,
     "metadata": {},
     "output_type": "execute_result"
    }
   ],
   "source": [
    "model = nn.Sequential(\n",
    "    nn.Linear(3, 5),\n",
    "    nn.ReLU(),\n",
    "    # probability wich t\n",
    "    nn.Dropout(0.5),\n",
    "    nn.Linear(5, 4)\n",
    ")\n",
    "\n",
    "# modes - on train dropout active!\n",
    "model.train()\n",
    "# on validation dropout is inactive!\n",
    "model.eval()"
   ]
  },
  {
   "cell_type": "code",
   "execution_count": 3,
   "id": "a18e20b0-f66c-4959-8c19-0b28323315b0",
   "metadata": {},
   "outputs": [],
   "source": [
    "class MyModel(nn.Module):\n",
    "    def __init__(self, input, output):\n",
    "        super().__init__()\n",
    "        self.layer_1 = nn.Linear(input, 128)\n",
    "        self.layer_2 = nn.Linear(128, output)\n",
    "        self.dropout = nn.Dropout(0.5)\n",
    "        self.act = nn.ReLU()\n",
    "\n",
    "    def forward(self, x):\n",
    "        x = self.layer_1(x)\n",
    "        x = self.act(x)\n",
    "        x = self.dropout(x)\n",
    "        out = self.layer_2(x)\n",
    "        \n",
    "        return out\n",
    "\n",
    "\n",
    "model = MyModel(64 * 64, 2)"
   ]
  },
  {
   "cell_type": "markdown",
   "id": "835c266e-45dc-4649-9658-2d0b6ee3fa92",
   "metadata": {},
   "source": [
    "### BatchNorm"
   ]
  },
  {
   "cell_type": "code",
   "execution_count": 4,
   "id": "54843226-8f88-4fb3-a1f5-6ff36a610982",
   "metadata": {},
   "outputs": [
    {
     "data": {
      "text/plain": [
       "Sequential(\n",
       "  (0): Linear(in_features=3, out_features=5, bias=False)\n",
       "  (1): ReLU()\n",
       "  (2): BatchNorm1d(5, eps=1e-05, momentum=0.1, affine=True, track_running_stats=True)\n",
       "  (3): Linear(in_features=5, out_features=4, bias=True)\n",
       ")"
      ]
     },
     "execution_count": 4,
     "metadata": {},
     "output_type": "execute_result"
    }
   ],
   "source": [
    "model = nn.Sequential(\n",
    "    # moment - in layer with BatchNorm need to disable bias\n",
    "    nn.Linear(3, 5, bias=False),\n",
    "    # nn.BatchNorm1d(5), - also can do before activation\n",
    "    nn.ReLU(),\n",
    "    # apply BatchNorm to linear layer(in brackets - tensor size)\n",
    "    nn.BatchNorm1d(5),\n",
    "    nn.Linear(5, 4)\n",
    ")\n",
    "\n",
    "# modes\n",
    "model.train()\n",
    "model.eval()"
   ]
  }
 ],
 "metadata": {
  "kernelspec": {
   "display_name": "Python 3 (ipykernel)",
   "language": "python",
   "name": "python3"
  },
  "language_info": {
   "codemirror_mode": {
    "name": "ipython",
    "version": 3
   },
   "file_extension": ".py",
   "mimetype": "text/x-python",
   "name": "python",
   "nbconvert_exporter": "python",
   "pygments_lexer": "ipython3",
   "version": "3.10.12"
  }
 },
 "nbformat": 4,
 "nbformat_minor": 5
}
