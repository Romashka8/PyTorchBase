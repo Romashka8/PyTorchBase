{
 "cells": [
  {
   "cell_type": "markdown",
   "id": "bc0a14da-00fb-4698-b13d-d25ef4d565af",
   "metadata": {},
   "source": [
    "### Let's combine all stages and implement simple model training cycle"
   ]
  },
  {
   "cell_type": "code",
   "execution_count": 1,
   "id": "f2bac6aa-acec-4283-b0ad-8609070536d6",
   "metadata": {},
   "outputs": [],
   "source": [
    "import torch\n",
    "import torch.nn as nn\n",
    "\n",
    "from torch.utils.data import Dataset, DataLoader, random_split\n",
    "\n",
    "import torchvision\n",
    "from torchvision.transforms import v2\n",
    "\n",
    "import os\n",
    "import matplotlib.pyplot as plt\n",
    "import numpy as np\n",
    "\n",
    "import json\n",
    "from tqdm import tqdm\n",
    "from PIL import Image\n",
    "\n",
    "plt.style.use('seaborn-v0_8-dark-palette')"
   ]
  },
  {
   "cell_type": "markdown",
   "id": "27feda2b-aae0-452b-aad2-90e3f2b722bf",
   "metadata": {},
   "source": [
    "#### Define device"
   ]
  },
  {
   "cell_type": "code",
   "execution_count": 2,
   "id": "fd29c833-0aa2-4d26-8735-509e37a202de",
   "metadata": {
    "scrolled": true
   },
   "outputs": [
    {
     "data": {
      "text/plain": [
       "'cpu'"
      ]
     },
     "execution_count": 2,
     "metadata": {},
     "output_type": "execute_result"
    }
   ],
   "source": [
    "device = 'cuda' if torch.cuda.is_available() else 'cpu'\n",
    "device"
   ]
  },
  {
   "cell_type": "markdown",
   "id": "920b7329-0676-460f-b1bf-03ddb8efbfd5",
   "metadata": {},
   "source": [
    "#### Create Dataset"
   ]
  },
  {
   "cell_type": "code",
   "execution_count": 3,
   "id": "651a23fa-7cbf-4119-a060-e68411b0e233",
   "metadata": {},
   "outputs": [],
   "source": [
    "class DatasetReg(Dataset):\n",
    "    def __init__(self, path, transform=None):\n",
    "        self.path = path\n",
    "        self.transform = transform\n",
    "\n",
    "        self.list_name_file = os.listdir(path)\n",
    "        if 'coords.json' in self.list_name_file:\n",
    "            self.list_name_file.remove('coords.json')\n",
    "\n",
    "        self.len_dataset = len(self.list_name_file)\n",
    "\n",
    "        with open(os.path.join(self.path, 'coords.json'), 'r') as f:\n",
    "            self.dict_coords = json.load(f)\n",
    "        \n",
    "    def __len__(self):\n",
    "        return self.len_dataset\n",
    "\n",
    "    def __getitem__(self, index):\n",
    "        name_file = self.list_name_file[index]\n",
    "        path_img = os.path.join(self.path, name_file)\n",
    "\n",
    "        img = np.array(Image.open(path_img))\n",
    "        # coords = np.array(self.dict_coords[name_file])\n",
    "        coords = torch.tensor(self.dict_coords[name_file], dtype=torch.float32)\n",
    "\n",
    "        if self.transform:\n",
    "            img = self.transform(img)\n",
    "\n",
    "        return img, coords"
   ]
  },
  {
   "cell_type": "code",
   "execution_count": 4,
   "id": "c35c490f-a5b4-4d86-b09e-0653bd396d93",
   "metadata": {},
   "outputs": [],
   "source": [
    "# transform data\n",
    "transform = v2.Compose(\n",
    "    [\n",
    "        v2.ToImage(),\n",
    "        v2.ToDtype(torch.float32, scale=True),\n",
    "        v2.Normalize(mean=(0.5,), std=(0.5,))\n",
    "    ]\n",
    ")"
   ]
  },
  {
   "cell_type": "code",
   "execution_count": 5,
   "id": "50745036-22f0-4640-a11b-d85719020824",
   "metadata": {},
   "outputs": [],
   "source": [
    "# create datasets\n",
    "# note: you need to run scripts from dataloader part\n",
    "dataset = DatasetReg(os.path.join(os.getcwd(), 'dataset'), transform=transform)"
   ]
  },
  {
   "cell_type": "code",
   "execution_count": 6,
   "id": "6e04608b-f4fc-497e-abb7-c11e4174c175",
   "metadata": {},
   "outputs": [
    {
     "name": "stdout",
     "output_type": "stream",
     "text": [
      "coord = tensor([42., 31.])\n"
     ]
    },
    {
     "data": {
      "text/plain": [
       "<matplotlib.image.AxesImage at 0x734aa7f7cd00>"
      ]
     },
     "execution_count": 6,
     "metadata": {},
     "output_type": "execute_result"
    },
    {
     "data": {
      "image/png": "[encoded data removed]",
      "text/plain": [
       "<Figure size 640x480 with 1 Axes>"
      ]
     },
     "metadata": {},
     "output_type": "display_data"
    }
   ],
   "source": [
    "# plot some info\n",
    "img, coord = dataset[2512]\n",
    "\n",
    "print(f'coord = {coord}')\n",
    "plt.imshow(img.numpy()[0], cmap='gray')"
   ]
  },
  {
   "cell_type": "code",
   "execution_count": 7,
   "id": "54e0ee66-d7ef-469a-bb41-4fcf7613f767",
   "metadata": {},
   "outputs": [],
   "source": [
    "# split data\n",
    "train_data, val_data, test_data = random_split(dataset, [0.7, 0.1, 0.2])"
   ]
  },
  {
   "cell_type": "code",
   "execution_count": 8,
   "id": "5af6282f-5ae6-4e75-9fdc-e586909dd410",
   "metadata": {},
   "outputs": [],
   "source": [
    "# split data on batches\n",
    "train_loader = DataLoader(train_data, batch_size=16, shuffle=True)\n",
    "val_loader = DataLoader(val_data, batch_size=16, shuffle=False)\n",
    "test_loader = DataLoader(test_data, batch_size=16, shuffle=False)"
   ]
  },
  {
   "cell_type": "markdown",
   "id": "b470cb3f-31e6-4ae2-9c8a-0eac6dd42f56",
   "metadata": {},
   "source": [
    "#### Create model"
   ]
  },
  {
   "cell_type": "code",
   "execution_count": 9,
   "id": "59a72638-2037-49c7-af51-c2791cb59912",
   "metadata": {},
   "outputs": [],
   "source": [
    "class MyModel(nn.Module):\n",
    "    def __init__(self, input, output):\n",
    "        super().__init__()\n",
    "        self.layer_1 = nn.Linear(input, 128)\n",
    "        self.layer_2 = nn.Linear(128, output)\n",
    "        self.act = nn.ReLU()\n",
    "\n",
    "    def forward(self, x):\n",
    "        x = self.layer_1(x)\n",
    "        x = self.act(x)\n",
    "        out = self.layer_2(x)\n",
    "        return out"
   ]
  },
  {
   "cell_type": "code",
   "execution_count": 10,
   "id": "a23f9a93-c549-41e0-ab00-b4980f199ac7",
   "metadata": {},
   "outputs": [],
   "source": [
    "model = MyModel(64 * 64, 2).to(device)"
   ]
  },
  {
   "cell_type": "code",
   "execution_count": 11,
   "id": "236fac8a-0aa9-4c09-9731-17d9dcfd3cdf",
   "metadata": {},
   "outputs": [
    {
     "data": {
      "text/plain": [
       "torch.Size([16, 2])"
      ]
     },
     "execution_count": 11,
     "metadata": {},
     "output_type": "execute_result"
    }
   ],
   "source": [
    "# check\n",
    "input = torch.rand([16, 64 * 64], dtype=torch.float32).to(device)\n",
    "\n",
    "out = model(input)\n",
    "out.shape"
   ]
  },
  {
   "cell_type": "code",
   "execution_count": 12,
   "id": "a8f86b19-dcf3-416f-bb39-b98ac7ec7c03",
   "metadata": {},
   "outputs": [],
   "source": [
    "# set up loss and GD optimizer\n",
    "loss_model = nn.MSELoss()\n",
    "opt = torch.optim.Adam(model.parameters(), lr=1e-3)"
   ]
  },
  {
   "cell_type": "markdown",
   "id": "c7c5aa0f-12e4-4a9f-9c52-831be7b56cdd",
   "metadata": {},
   "source": [
    "#### Create train cycle"
   ]
  },
  {
   "cell_type": "code",
   "execution_count": 13,
   "id": "c3b78ac4-c04a-4620-b2f6-1add81107aed",
   "metadata": {},
   "outputs": [
    {
     "name": "stderr",
     "output_type": "stream",
     "text": [
      "                                                                                \r"
     ]
    },
    {
     "name": "stdout",
     "output_type": "stream",
     "text": [
      "Epoch [1/30], train_loss = 1.8393, train_acc = 0.6461, val_loss = 0.0720, val_acc = 0.8785\n"
     ]
    },
    {
     "name": "stderr",
     "output_type": "stream",
     "text": [
      "                                                                                \r"
     ]
    },
    {
     "name": "stdout",
     "output_type": "stream",
     "text": [
      "Epoch [2/30], train_loss = 0.1409, train_acc = 0.6723, val_loss = 0.0691, val_acc = 0.8911\n"
     ]
    },
    {
     "name": "stderr",
     "output_type": "stream",
     "text": [
      "                                                                                \r"
     ]
    },
    {
     "name": "stdout",
     "output_type": "stream",
     "text": [
      "Epoch [3/30], train_loss = 0.1243, train_acc = 0.7222, val_loss = 0.0905, val_acc = 0.8204\n"
     ]
    },
    {
     "name": "stderr",
     "output_type": "stream",
     "text": [
      "                                                                                \r"
     ]
    },
    {
     "name": "stdout",
     "output_type": "stream",
     "text": [
      "Epoch [4/30], train_loss = 0.1068, train_acc = 0.7712, val_loss = 0.0611, val_acc = 0.9147\n"
     ]
    },
    {
     "name": "stderr",
     "output_type": "stream",
     "text": [
      "                                                                                \r"
     ]
    },
    {
     "name": "stdout",
     "output_type": "stream",
     "text": [
      "Epoch [5/30], train_loss = 0.0935, train_acc = 0.8143, val_loss = 0.0606, val_acc = 0.9195\n"
     ]
    },
    {
     "name": "stderr",
     "output_type": "stream",
     "text": [
      "                                                                                \r"
     ]
    },
    {
     "name": "stdout",
     "output_type": "stream",
     "text": [
      "Epoch [6/30], train_loss = 0.0806, train_acc = 0.8542, val_loss = 0.0817, val_acc = 0.8404\n"
     ]
    },
    {
     "name": "stderr",
     "output_type": "stream",
     "text": [
      "                                                                                \r"
     ]
    },
    {
     "name": "stdout",
     "output_type": "stream",
     "text": [
      "Epoch [7/30], train_loss = 0.0769, train_acc = 0.8672, val_loss = 0.1375, val_acc = 0.6755\n"
     ]
    },
    {
     "name": "stderr",
     "output_type": "stream",
     "text": [
      "                                                                                \r"
     ]
    },
    {
     "name": "stdout",
     "output_type": "stream",
     "text": [
      "Epoch [8/30], train_loss = 0.0695, train_acc = 0.8884, val_loss = 0.0495, val_acc = 0.9511\n"
     ]
    },
    {
     "name": "stderr",
     "output_type": "stream",
     "text": [
      "                                                                                \r"
     ]
    },
    {
     "name": "stdout",
     "output_type": "stream",
     "text": [
      "Epoch [9/30], train_loss = 0.0657, train_acc = 0.9014, val_loss = 0.0427, val_acc = 0.9652\n"
     ]
    },
    {
     "name": "stderr",
     "output_type": "stream",
     "text": [
      "                                                                                \r"
     ]
    },
    {
     "name": "stdout",
     "output_type": "stream",
     "text": [
      "Epoch [10/30], train_loss = 0.0635, train_acc = 0.9076, val_loss = 0.0518, val_acc = 0.9527\n"
     ]
    },
    {
     "name": "stderr",
     "output_type": "stream",
     "text": [
      "                                                                                \r"
     ]
    },
    {
     "name": "stdout",
     "output_type": "stream",
     "text": [
      "Epoch [11/30], train_loss = 0.0600, train_acc = 0.9177, val_loss = 0.0532, val_acc = 0.9368\n"
     ]
    },
    {
     "name": "stderr",
     "output_type": "stream",
     "text": [
      "                                                                                \r"
     ]
    },
    {
     "name": "stdout",
     "output_type": "stream",
     "text": [
      "Epoch [12/30], train_loss = 0.0568, train_acc = 0.9264, val_loss = 0.0587, val_acc = 0.9224\n"
     ]
    },
    {
     "name": "stderr",
     "output_type": "stream",
     "text": [
      "                                                                                \r"
     ]
    },
    {
     "name": "stdout",
     "output_type": "stream",
     "text": [
      "Epoch [13/30], train_loss = 0.0554, train_acc = 0.9311, val_loss = 0.0470, val_acc = 0.9570\n"
     ]
    },
    {
     "name": "stderr",
     "output_type": "stream",
     "text": [
      "                                                                                \r"
     ]
    },
    {
     "name": "stdout",
     "output_type": "stream",
     "text": [
      "Epoch [14/30], train_loss = 0.0538, train_acc = 0.9365, val_loss = 0.0396, val_acc = 0.9676\n"
     ]
    },
    {
     "name": "stderr",
     "output_type": "stream",
     "text": [
      "                                                                                \r"
     ]
    },
    {
     "name": "stdout",
     "output_type": "stream",
     "text": [
      "Epoch [15/30], train_loss = 0.0521, train_acc = 0.9410, val_loss = 0.0635, val_acc = 0.9037\n"
     ]
    },
    {
     "name": "stderr",
     "output_type": "stream",
     "text": [
      "                                                                                \r"
     ]
    },
    {
     "name": "stdout",
     "output_type": "stream",
     "text": [
      "Epoch [16/30], train_loss = 0.0506, train_acc = 0.9444, val_loss = 0.0364, val_acc = 0.9799\n"
     ]
    },
    {
     "name": "stderr",
     "output_type": "stream",
     "text": [
      "                                                                                \r"
     ]
    },
    {
     "name": "stdout",
     "output_type": "stream",
     "text": [
      "Epoch [17/30], train_loss = 0.0495, train_acc = 0.9454, val_loss = 0.0396, val_acc = 0.9746\n"
     ]
    },
    {
     "name": "stderr",
     "output_type": "stream",
     "text": [
      "                                                                                \r"
     ]
    },
    {
     "name": "stdout",
     "output_type": "stream",
     "text": [
      "Epoch [18/30], train_loss = 0.0483, train_acc = 0.9505, val_loss = 0.0442, val_acc = 0.9576\n"
     ]
    },
    {
     "name": "stderr",
     "output_type": "stream",
     "text": [
      "                                                                                \r"
     ]
    },
    {
     "name": "stdout",
     "output_type": "stream",
     "text": [
      "Epoch [19/30], train_loss = 0.0472, train_acc = 0.9537, val_loss = 0.0403, val_acc = 0.9688\n"
     ]
    },
    {
     "name": "stderr",
     "output_type": "stream",
     "text": [
      "                                                                                \r"
     ]
    },
    {
     "name": "stdout",
     "output_type": "stream",
     "text": [
      "Epoch [20/30], train_loss = 0.0465, train_acc = 0.9542, val_loss = 0.0676, val_acc = 0.8918\n"
     ]
    },
    {
     "name": "stderr",
     "output_type": "stream",
     "text": [
      "                                                                                \r"
     ]
    },
    {
     "name": "stdout",
     "output_type": "stream",
     "text": [
      "Epoch [21/30], train_loss = 0.0461, train_acc = 0.9552, val_loss = 0.0558, val_acc = 0.9298\n"
     ]
    },
    {
     "name": "stderr",
     "output_type": "stream",
     "text": [
      "                                                                                \r"
     ]
    },
    {
     "name": "stdout",
     "output_type": "stream",
     "text": [
      "Epoch [22/30], train_loss = 0.0448, train_acc = 0.9584, val_loss = 0.0379, val_acc = 0.9807\n"
     ]
    },
    {
     "name": "stderr",
     "output_type": "stream",
     "text": [
      "                                                                                \r"
     ]
    },
    {
     "name": "stdout",
     "output_type": "stream",
     "text": [
      "Epoch [23/30], train_loss = 0.0450, train_acc = 0.9577, val_loss = 0.0331, val_acc = 0.9824\n"
     ]
    },
    {
     "name": "stderr",
     "output_type": "stream",
     "text": [
      "                                                                                \r"
     ]
    },
    {
     "name": "stdout",
     "output_type": "stream",
     "text": [
      "Epoch [24/30], train_loss = 0.0438, train_acc = 0.9607, val_loss = 0.0454, val_acc = 0.9556\n"
     ]
    },
    {
     "name": "stderr",
     "output_type": "stream",
     "text": [
      "                                                                                \r"
     ]
    },
    {
     "name": "stdout",
     "output_type": "stream",
     "text": [
      "Epoch [25/30], train_loss = 0.0434, train_acc = 0.9611, val_loss = 0.0374, val_acc = 0.9766\n"
     ]
    },
    {
     "name": "stderr",
     "output_type": "stream",
     "text": [
      "                                                                                \r"
     ]
    },
    {
     "name": "stdout",
     "output_type": "stream",
     "text": [
      "Epoch [26/30], train_loss = 0.0424, train_acc = 0.9637, val_loss = 0.0512, val_acc = 0.9407\n"
     ]
    },
    {
     "name": "stderr",
     "output_type": "stream",
     "text": [
      "                                                                                \r"
     ]
    },
    {
     "name": "stdout",
     "output_type": "stream",
     "text": [
      "Epoch [27/30], train_loss = 0.0424, train_acc = 0.9639, val_loss = 0.0424, val_acc = 0.9677\n"
     ]
    },
    {
     "name": "stderr",
     "output_type": "stream",
     "text": [
      "                                                                                \r"
     ]
    },
    {
     "name": "stdout",
     "output_type": "stream",
     "text": [
      "Epoch [28/30], train_loss = 0.0413, train_acc = 0.9663, val_loss = 0.0482, val_acc = 0.9601\n"
     ]
    },
    {
     "name": "stderr",
     "output_type": "stream",
     "text": [
      "                                                                                \r"
     ]
    },
    {
     "name": "stdout",
     "output_type": "stream",
     "text": [
      "Epoch [29/30], train_loss = 0.0407, train_acc = 0.9671, val_loss = 0.0676, val_acc = 0.9043\n"
     ]
    },
    {
     "name": "stderr",
     "output_type": "stream",
     "text": [
      "                                                                                \r"
     ]
    },
    {
     "name": "stdout",
     "output_type": "stream",
     "text": [
      "Epoch [30/30], train_loss = 0.0405, train_acc = 0.9686, val_loss = 0.0470, val_acc = 0.9658\n"
     ]
    }
   ],
   "source": [
    "EPOCHS = 30\n",
    "train_loss = []\n",
    "train_acc = []\n",
    "val_loss = []\n",
    "val_acc = []\n",
    "\n",
    "# training cycle\n",
    "for epoch in range(EPOCHS):\n",
    "\n",
    "    # train model\n",
    "    model.train() # set up train mode\n",
    "    # save loss\n",
    "    running_train_loss = []\n",
    "    # add metric calc(accuracy)\n",
    "    true_answer = 0\n",
    "    # add progress bar\n",
    "    train_loop = tqdm(train_loader, leave=False)\n",
    "    for x, targets in train_loop:\n",
    "        # data\n",
    "        # (batch_size, 1, 64, 64) -> (batch_size, 64 * 64)\n",
    "        x = x.reshape(-1, 64 * 64).to(device)\n",
    "        targets = targets.to(device)\n",
    "        \n",
    "        # forward pass + loss calc\n",
    "        pred = model(x)\n",
    "        loss = loss_model(pred, targets)\n",
    "\n",
    "        # backward pass\n",
    "        opt.zero_grad()\n",
    "        loss.backward()\n",
    "        # optimizer step\n",
    "        opt.step()\n",
    "\n",
    "        running_train_loss.append(loss.item())\n",
    "        mean_train_loss = sum(running_train_loss) / len(running_train_loss)\n",
    "\n",
    "        true_answer += (torch.round(pred) == targets).all(dim=1).sum().item()\n",
    "        \n",
    "        # add description to progress bar\n",
    "        train_loop.set_description(f'Epoch [{epoch + 1}/{EPOCHS}], train_loss = {mean_train_loss:.4f}')\n",
    "\n",
    "    # calc metric(accuracy)\n",
    "    running_train_accuracy = true_answer / len(train_data)\n",
    "    \n",
    "    # save loss and metric\n",
    "    train_loss.append(mean_train_loss)\n",
    "    train_acc.append(running_train_accuracy)\n",
    "    \n",
    "    # validation\n",
    "    model.eval() # set up model into validation mode\n",
    "    with torch.no_grad(): # disable gradient calculation\n",
    "        # do the same for loss on validation\n",
    "        running_val_loss = []\n",
    "        true_answer = 0\n",
    "        for x, targets in val_loader:\n",
    "            # Data\n",
    "            # (batch_size, 1, 64, 64) -> (batch_size, 64 * 64)\n",
    "            x = x.reshape(-1, 64 * 64).to(device)\n",
    "            targets = targets.to(device)\n",
    "\n",
    "            # forward pass + loss calc\n",
    "            pred = model(x)\n",
    "            loss = loss_model(pred, targets)\n",
    "\n",
    "            running_val_loss.append(loss.item())\n",
    "            mean_val_loss = sum(running_val_loss) / len(running_val_loss)\n",
    "\n",
    "            true_answer += (torch.round(pred) == targets).all(dim=1).sum().item()\n",
    "            \n",
    "        # calc metric(accuracy)\n",
    "        running_val_acc = true_answer / len(val_data)\n",
    "            \n",
    "        # save loss and metric\n",
    "        val_loss.append(mean_val_loss)\n",
    "        val_acc.append(running_val_acc)\n",
    "\n",
    "        print(f'Epoch [{epoch + 1}/{EPOCHS}], train_loss = {mean_train_loss:.4f}, train_acc = {running_train_accuracy:.4f}, val_loss = {mean_val_loss:.4f}, val_acc = {running_val_acc:.4f}')"
   ]
  },
  {
   "cell_type": "markdown",
   "id": "a04829e4-e6cc-4624-b910-a3030b6b595b",
   "metadata": {},
   "source": [
    "#### Plot results"
   ]
  },
  {
   "cell_type": "code",
   "execution_count": 14,
   "id": "120a5e36-fd79-4651-bb7f-68e198986ef2",
   "metadata": {},
   "outputs": [
    {
     "data": {
      "image/png": "[encoded data removed]",
      "text/plain": [
       "<Figure size 640x480 with 1 Axes>"
      ]
     },
     "metadata": {},
     "output_type": "display_data"
    }
   ],
   "source": [
    "plt.plot(train_loss)\n",
    "plt.plot(val_loss)\n",
    "plt.legend(['loss_train', 'loss_val'])\n",
    "plt.show()"
   ]
  },
  {
   "cell_type": "code",
   "execution_count": 15,
   "id": "f059862c-05d8-4684-935f-0f2bbfcad57e",
   "metadata": {},
   "outputs": [
    {
     "data": {
      "image/png": "[encoded data removed]",
      "text/plain": [
       "<Figure size 640x480 with 1 Axes>"
      ]
     },
     "metadata": {},
     "output_type": "display_data"
    }
   ],
   "source": [
    "plt.plot(train_acc)\n",
    "plt.plot(val_acc)\n",
    "plt.legend(['acc_train', 'acc_val'])\n",
    "plt.show()"
   ]
  }
 ],
 "metadata": {
  "kernelspec": {
   "display_name": "Python 3 (ipykernel)",
   "language": "python",
   "name": "python3"
  },
  "language_info": {
   "codemirror_mode": {
    "name": "ipython",
    "version": 3
   },
   "file_extension": ".py",
   "mimetype": "text/x-python",
   "name": "python",
   "nbconvert_exporter": "python",
   "pygments_lexer": "ipython3",
   "version": "3.10.12"
  }
 },
 "nbformat": 4,
 "nbformat_minor": 5
}
